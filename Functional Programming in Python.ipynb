{
 "cells": [
  {
   "cell_type": "markdown",
   "metadata": {},
   "source": [
    "# Functional Programming in Python\n",
    "There are several aspects of Python that support a functional programming style.\n",
    "\n",
    "For example: `map`, `reduce` and `filter`."
   ]
  },
  {
   "cell_type": "markdown",
   "metadata": {},
   "source": [
    "## Map\n",
    "`map` applies a function to all the items in an input sequence.\n",
    "```python\n",
    "map(function, sequence)\n",
    "```\n",
    "For example:\n",
    "```python\n",
    "sequence = [1, 2, 3, 4, 5]\n",
    "\n",
    "def square(x):\n",
    "    return x**2\n",
    "   \n",
    "result = list(map(square, sequence))\n",
    "print(result)\n",
    "```\n",
    "\n",
    "Run the code below to see the output."
   ]
  },
  {
   "cell_type": "code",
   "execution_count": null,
   "metadata": {
    "collapsed": false
   },
   "outputs": [],
   "source": [
    "sequence = [1, 2, 3, 4, 5]\n",
    "\n",
    "def square(x):\n",
    "    return x**2\n",
    "   \n",
    "result = list(map(square, sequence))\n",
    "print(result)"
   ]
  },
  {
   "cell_type": "markdown",
   "metadata": {},
   "source": [
    "## Filter\n",
    "`fiter` takes in a sequence and returns a sequence containing only those elements of the sequence for which a function when applied to the element returns true.\n",
    "`filter(function, sequence)`\n",
    "\n",
    "For example:\n",
    "```python\n",
    "sequence = range(-10, 10)\n",
    "greater_than_zero = list(filter(lambda x: x > 0, sequence))\n",
    "print(greater_than_zero)\n",
    "```"
   ]
  },
  {
   "cell_type": "code",
   "execution_count": null,
   "metadata": {
    "collapsed": false
   },
   "outputs": [],
   "source": [
    "sequence = range(-10, 10)\n",
    "greater_than_zero = list(filter(lambda x: x > 0, sequence))\n",
    "print(greater_than_zero)"
   ]
  },
  {
   "cell_type": "markdown",
   "metadata": {},
   "source": [
    "## Reduce\n",
    "`reduce` performs computations on a sequence and returns a single result.\n",
    "`reduce(function, sequence)`\n",
    "\n",
    "For example:\n",
    "\n",
    "```python\n",
    "from functools import reduce\n",
    "product = reduce((lambda x, y: x * y), [1, 2, 3, 4])\n",
    "print(product)\n",
    "```\n",
    "\n",
    "At each step the function passed to `reduce` is passed two arguments, the current reduced value and the next value from the sequence. By default, the first item in the sequence is used as the initial value of the reduction value."
   ]
  },
  {
   "cell_type": "code",
   "execution_count": null,
   "metadata": {
    "collapsed": false
   },
   "outputs": [],
   "source": [
    "from functools import reduce\n",
    "product = reduce((lambda x, y: x * y), [1, 2, 3, 4])\n",
    "print(product)"
   ]
  },
  {
   "cell_type": "code",
   "execution_count": null,
   "metadata": {
    "collapsed": true
   },
   "outputs": [],
   "source": []
  }
 ],
 "metadata": {
  "kernelspec": {
   "display_name": "Python 3",
   "language": "python",
   "name": "python3"
  },
  "language_info": {
   "codemirror_mode": {
    "name": "ipython",
    "version": 3
   },
   "file_extension": ".py",
   "mimetype": "text/x-python",
   "name": "python",
   "nbconvert_exporter": "python",
   "pygments_lexer": "ipython3",
   "version": "3.5.3"
  }
 },
 "nbformat": 4,
 "nbformat_minor": 2
}
