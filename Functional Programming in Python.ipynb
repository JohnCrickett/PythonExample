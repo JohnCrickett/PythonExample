{
 "cells": [
  {
   "cell_type": "markdown",
   "metadata": {},
   "source": [
    "# Functional Programming in Python\n",
    "Interest in Functional Programming is currently growing as more developers become aware of the benefits it offers, particularly with respect to concurrency and scale.\n",
    "\n",
    "For some background on Functional Programming see the paper 'Why Functional Programming Matters: http://www.cse.chalmers.se/~rjmh/Papers/whyfp.pdf\n",
    "\n",
    "There are several aspects of Python that support a functional programming style.\n",
    "\n",
    "For example: `map`, `reduce` and `filter`."
   ]
  },
  {
   "cell_type": "markdown",
   "metadata": {},
   "source": [
    "## Map\n",
    "`map` applies a function to all the items in an input sequence.\n",
    "```python\n",
    "map(function, sequence)\n",
    "```\n",
    "For example:\n",
    "```python\n",
    "sequence = [1, 2, 3, 4, 5]\n",
    "\n",
    "def square(x):\n",
    "    return x**2\n",
    "   \n",
    "result = list(map(square, sequence))\n",
    "print(result)\n",
    "```\n",
    "\n",
    "Run the code below to see the output."
   ]
  },
  {
   "cell_type": "code",
   "execution_count": null,
   "metadata": {
    "collapsed": false
   },
   "outputs": [],
   "source": [
    "sequence = [1, 2, 3, 4, 5]\n",
    "\n",
    "def square(x):\n",
    "    return x**2\n",
    "   \n",
    "result = list(map(square, sequence))\n",
    "print(result)"
   ]
  },
  {
   "cell_type": "markdown",
   "metadata": {},
   "source": [
    "## Filter\n",
    "`fiter` takes in a sequence and returns a sequence containing only those elements of the sequence for which a function when applied to the element returns true.\n",
    "`filter(function, sequence)`\n",
    "\n",
    "For example:\n",
    "```python\n",
    "sequence = range(-10, 10)\n",
    "greater_than_zero = list(filter(lambda x: x > 0, sequence))\n",
    "print(greater_than_zero)\n",
    "```"
   ]
  },
  {
   "cell_type": "code",
   "execution_count": null,
   "metadata": {
    "collapsed": false
   },
   "outputs": [],
   "source": [
    "sequence = range(-10, 10)\n",
    "greater_than_zero = list(filter(lambda x: x > 0, sequence))\n",
    "print(greater_than_zero)"
   ]
  },
  {
   "cell_type": "markdown",
   "metadata": {},
   "source": [
    "## Reduce\n",
    "`reduce` performs computations on a sequence and returns a single result.\n",
    "`reduce(function, sequence)`\n",
    "\n",
    "For example:\n",
    "\n",
    "```python\n",
    "from functools import reduce\n",
    "product = reduce((lambda x, y: x * y), [1, 2, 3, 4])\n",
    "print(product)\n",
    "```\n",
    "\n",
    "At each step the function passed to `reduce` is passed two arguments, the current reduced value and the next value from the sequence. By default, the first item in the sequence is used as the initial value of the reduction value."
   ]
  },
  {
   "cell_type": "code",
   "execution_count": null,
   "metadata": {
    "collapsed": false
   },
   "outputs": [],
   "source": [
    "from functools import reduce\n",
    "product = reduce((lambda x, y: x * y), [1, 2, 3, 4])\n",
    "print(product)"
   ]
  },
  {
   "cell_type": "markdown",
   "metadata": {
    "collapsed": true
   },
   "source": [
    "## Other concepts to include:\n",
    "pure functions, function composition, currying and partial application, recursive data structures, algebraic data types, monadic composition, type classes, lenses, monad transformers etc.\n",
    "https://hackernoon.com/why-functional-programming-matters-c647f56a7691\n",
    "http://lambdaconf.us/downloads/documents/lambdaconf_slfp.pdf\n",
    "\n",
    "http://www.cse.chalmers.se/~rjmh/Papers/whyfp.pdf"
   ]
  },
  {
   "cell_type": "code",
   "execution_count": null,
   "metadata": {
    "collapsed": true
   },
   "outputs": [],
   "source": []
  },
  {
   "cell_type": "markdown",
   "metadata": {},
   "source": [
    "## Functional Programming Concepts\n",
    "\n",
    "### Pure Functions\n",
    "This is easily the foremost rule of functional programming. Pure functions meet two fundamental restrictions:\n",
    "\n",
    "1. A pure function called multiple times with the same arguments will always return the same value. Always.\n",
    "2. No side effects occur throughout the function’s execution.\n",
    "\n",
    "### Immutable Values\n",
    "In Fuctional Programming variables are immutable, no variable can (or should if the language does not enforce immutability) be modified after it's been initialised.\n",
    "\n",
    "That means there is no assignment, only intialisation.\n",
    "\n",
    "### Monads\n",
    "\n",
    "### First Class Function\n",
    "For a function to be first-class, you just have to be able to set it to a variable. That’s it.\n",
    "```python\n",
    "def square(x):\n",
    "    return x ** 2\n",
    "    \n",
    "f = square\n",
    "print(f(2))\n",
    "```\n",
    "\n",
    "### High Order Functions\n",
    "High Order Functions build on the concept of First Class Functions, they are functions that either accept another function as an argument, or that return a function themselves. Common examples of higher-order functions are the functions map and filter which typically iterate over a sequence/container.\n",
    "\n",
    "###"
   ]
  },
  {
   "cell_type": "code",
   "execution_count": null,
   "metadata": {
    "collapsed": true
   },
   "outputs": [],
   "source": []
  },
  {
   "cell_type": "code",
   "execution_count": null,
   "metadata": {
    "collapsed": true
   },
   "outputs": [],
   "source": []
  }
 ],
 "metadata": {
  "kernelspec": {
   "display_name": "Python 3",
   "language": "python",
   "name": "python3"
  },
  "language_info": {
   "codemirror_mode": {
    "name": "ipython",
    "version": 3
   },
   "file_extension": ".py",
   "mimetype": "text/x-python",
   "name": "python",
   "nbconvert_exporter": "python",
   "pygments_lexer": "ipython3",
   "version": "3.5.3"
  }
 },
 "nbformat": 4,
 "nbformat_minor": 2
}
