{
 "cells": [
  {
   "cell_type": "markdown",
   "metadata": {},
   "source": [
    "# Debugging Python\n",
    "\n",
    "There are several ways to debug Python. \n",
    "\n",
    "This tutorial focuses on PDB, the debugger provided with Python.\n",
    "\n",
    "Documentation for PDB is here: https://docs.python.org/3.5/library/pdb.html"
   ]
  },
  {
   "cell_type": "markdown",
   "metadata": {},
   "source": [
    "You can run your Python script directly using the debugger:\n",
    "```\n",
    "$ python -m pdb script.py\n",
    "```\n",
    "\n",
    "Or interactively, for postmorten debugging:\n",
    "```\n",
    ">>> import pdb\n",
    ">>> import script\n",
    ">>> # here you call the code that crashes\n",
    ">>> pdb.pm\n",
    "```\n",
    "\n",
    "Alternately you can insert the debugging into your script:\n",
    "```python\n",
    "# start debugging your script here\n",
    "import pdb\n",
    "pdb.set_trace()\n",
    "```"
   ]
  },
  {
   "cell_type": "markdown",
   "metadata": {},
   "source": [
    "Once you are in the debugger it provides the following commands:\n",
    "\n",
    "```\n",
    "EOF    c          d        h         list      q        rv       undisplay\n",
    "a      cl         debug    help      ll        quit     s        unt\n",
    "alias  clear      disable  ignore    longlist  r        source   until\n",
    "args   commands   display  interact  n         restart  step     up\n",
    "b      condition  down     j         next      return   tbreak   w\n",
    "break  cont       enable   jump      p         retval   u        whatis\n",
    "bt     continue   exit     l         pp        run      unalias  where\n",
    "```\n",
    "\n",
    "You can access this list by typing: `help`\n",
    "\n",
    "You can get more help on each command by typing: `help <topic>` for example: `help list` brings up:\n",
    "\n",
    "```\n",
    "l(ist) [first [,last] | .]\n",
    "\n",
    "        List source code for the current file.  Without arguments,\n",
    "        list 11 lines around the current line or continue the previous\n",
    "        listing.  With . as argument, list 11 lines around the current\n",
    "        line.  With one argument, list 11 lines starting at that line.\n",
    "        With two arguments, list the given range; if the second\n",
    "        argument is less than the first, it is a count.\n",
    "\n",
    "        The current line in the current frame is indicated by \"->\".\n",
    "        If an exception is being debugged, the line where the\n",
    "        exception was originally raised or propagated is indicated by\n",
    "        \">>\", if it differs from the current line.\n",
    "```"
   ]
  },
  {
   "cell_type": "markdown",
   "metadata": {},
   "source": [
    "In everyday use you'll mainly need to know:\n",
    "\n",
    "* `c` or `continue` - Continues running the code\n",
    "* `q` or `quit` - Quits\n",
    "* `l` or `list` - Displays several lines around the current line or continue the previous listing.\n",
    "* `s` or `step` - Execute the current line, stop at the first possible occasion.\n",
    "* `n` or `next` - Continue execution until the next line in the current function is reached or it returns.\n",
    "* `b` or `break` - Set a breakpoint (depending on the argument provided).\n",
    "* `r` or `return` - Continue execution until the current function returns.\n",
    "* `u` or `up` - Move up the stack one frame.\n",
    "* `d` or `down` - Move down the stack one frame.\n",
    "* `! <code>` - Evaluates the `<code>` as Python on the current frame\n",
    "* `return` or `<enter>` - Repeates the last command\n",
    "\n",
    "and of course you can type and run and valid Python code so long as it's not a pdb command."
   ]
  },
  {
   "cell_type": "markdown",
   "metadata": {},
   "source": []
  },
  {
   "cell_type": "markdown",
   "metadata": {},
   "source": [
    "\n",
    "\n"
   ]
  },
  {
   "cell_type": "code",
   "execution_count": null,
   "metadata": {
    "collapsed": true
   },
   "outputs": [],
   "source": []
  },
  {
   "cell_type": "code",
   "execution_count": null,
   "metadata": {
    "collapsed": true
   },
   "outputs": [],
   "source": []
  },
  {
   "cell_type": "code",
   "execution_count": null,
   "metadata": {
    "collapsed": true
   },
   "outputs": [],
   "source": []
  }
 ],
 "metadata": {
  "anaconda-cloud": {},
  "kernelspec": {
   "display_name": "Python [conda env:PyForSciCourse]",
   "language": "python",
   "name": "conda-env-PyForSciCourse-py"
  },
  "language_info": {
   "codemirror_mode": {
    "name": "ipython",
    "version": 3
   },
   "file_extension": ".py",
   "mimetype": "text/x-python",
   "name": "python",
   "nbconvert_exporter": "python",
   "pygments_lexer": "ipython3",
   "version": "3.6.1"
  }
 },
 "nbformat": 4,
 "nbformat_minor": 1
}
