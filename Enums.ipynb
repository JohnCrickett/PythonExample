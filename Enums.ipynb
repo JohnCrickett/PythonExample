{
 "cells": [
  {
   "cell_type": "markdown",
   "metadata": {},
   "source": [
    "# Enums"
   ]
  },
  {
   "cell_type": "markdown",
   "metadata": {},
   "source": [
    "This notebook is an introduction to Python Enums as introduced in Python 3.4 and subsequently backported to other version of Python.\n",
    "More details can be found in the library documentation: https://docs.python.org/3.4/library/enum.html"
   ]
  },
  {
   "cell_type": "markdown",
   "metadata": {},
   "source": [
    "Enumerations are sets of symbolic names bound to unique, constant values. \n",
    "\n",
    "Within an enumeration, the members can be compared by identity, and the enumeration itself can be iterated over.\n",
    "\n",
    "A simple example is:\n",
    "```python\n",
    "from enum import Enum\n",
    "class Color(Enum):\n",
    "    red = 1\n",
    "    green = 2\n",
    "    blue = 3\n",
    "```\n",
    "\n",
    "Let's walk through the example above. First you import the Enum library with the line:\n",
    "```python\n",
    "from enum import Enum\n",
    "```\n",
    "Then you subclass Enum to create your own enumerated class with the values listed within the class:\n",
    "```python\n",
    "class Color(Enum):\n",
    "    red = 1\n",
    "    green = 2\n",
    "    blue = 3\n",
    "```\n",
    "\n",
    "Try it below, create your own Enum."
   ]
  },
  {
   "cell_type": "code",
   "execution_count": null,
   "metadata": {
    "collapsed": true
   },
   "outputs": [],
   "source": [
    "from enum import Enum"
   ]
  },
  {
   "cell_type": "code",
   "execution_count": null,
   "metadata": {
    "collapsed": true
   },
   "outputs": [],
   "source": [
    "class MyEnum(Enum):\n",
    "    first = 1\n",
    "    second = 2\n",
    "    third = 3"
   ]
  },
  {
   "cell_type": "markdown",
   "metadata": {},
   "source": [
    "## Nomenclature\n",
    "Python has a specific nomenclature for enums.\n",
    "\n",
    "The class Color is an enumeration (or enum)\n",
    "\n",
    "The attributes Color.red, Color.green, etc., are enumeration members (or enum members).\n",
    "\n",
    "The enum members have names and values (the name of Color.red is red, the value of Color.blue is 3, etc.)\n",
    "\n",
    "## Printing and Representing Enums\n",
    "Enum types have human readable string representations for print and repr:"
   ]
  },
  {
   "cell_type": "code",
   "execution_count": null,
   "metadata": {
    "collapsed": false
   },
   "outputs": [],
   "source": [
    "print(MyEnum.first)"
   ]
  },
  {
   "cell_type": "code",
   "execution_count": null,
   "metadata": {
    "collapsed": false
   },
   "outputs": [],
   "source": [
    "print(repr(MyEnum.first))"
   ]
  },
  {
   "cell_type": "markdown",
   "metadata": {},
   "source": [
    "The type of an enumeration member is the enumeration it belongs to:"
   ]
  },
  {
   "cell_type": "code",
   "execution_count": null,
   "metadata": {
    "collapsed": false
   },
   "outputs": [],
   "source": [
    "type(MyEnum.first)"
   ]
  },
  {
   "cell_type": "code",
   "execution_count": null,
   "metadata": {
    "collapsed": true
   },
   "outputs": [],
   "source": []
  },
  {
   "cell_type": "code",
   "execution_count": null,
   "metadata": {
    "collapsed": true
   },
   "outputs": [],
   "source": []
  },
  {
   "cell_type": "markdown",
   "metadata": {},
   "source": [
    "## Alternative way to create an Enum\n",
    "There is an alternative way to create and Enum, that matches Python's NamedTuple:\n",
    "```python\n",
    "Colour = Enum('Colour', 'red, green')\n",
    "```\n",
    "Try it below:"
   ]
  },
  {
   "cell_type": "code",
   "execution_count": null,
   "metadata": {
    "collapsed": false
   },
   "outputs": [],
   "source": [
    "SecondEnum = Enum('SecondEnum', 'first, second, third')\n",
    "print(SecondEnum.first)"
   ]
  },
  {
   "cell_type": "code",
   "execution_count": null,
   "metadata": {
    "collapsed": true
   },
   "outputs": [],
   "source": []
  },
  {
   "cell_type": "markdown",
   "metadata": {},
   "source": [
    "## Autonumbered Enums\n",
    "If you come from a background in another programming language you might expect enums to autonumber. They don't by default, but you can easily create your own that does:\n",
    "```python\n",
    "class AutoNumber(Enum):\n",
    "    def __new__(cls):\n",
    "        value = len(cls.__members__) + 1\n",
    "        obj = object.__new__(cls)\n",
    "        obj._value = value\n",
    "        return obj\n",
    "    def __int__(self):\n",
    "        return self._value\n",
    "\n",
    "class Color(AutoNumber):\n",
    "    red = ()\n",
    "    green = ()\n",
    "    blue = ()\n",
    "```"
   ]
  },
  {
   "cell_type": "code",
   "execution_count": null,
   "metadata": {
    "collapsed": true
   },
   "outputs": [],
   "source": []
  },
  {
   "cell_type": "code",
   "execution_count": null,
   "metadata": {
    "collapsed": true
   },
   "outputs": [],
   "source": []
  },
  {
   "cell_type": "code",
   "execution_count": null,
   "metadata": {
    "collapsed": true
   },
   "outputs": [],
   "source": []
  }
 ],
 "metadata": {
  "kernelspec": {
   "display_name": "Python 3",
   "language": "python",
   "name": "python3"
  },
  "language_info": {
   "codemirror_mode": {
    "name": "ipython",
    "version": 3
   },
   "file_extension": ".py",
   "mimetype": "text/x-python",
   "name": "python",
   "nbconvert_exporter": "python",
   "pygments_lexer": "ipython3",
   "version": "3.5.3"
  }
 },
 "nbformat": 4,
 "nbformat_minor": 2
}
