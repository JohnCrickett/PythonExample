{
 "cells": [
  {
   "attachments": {},
   "cell_type": "markdown",
   "metadata": {},
   "source": [
    "# Python Identifiers\n",
    "Python’s identifiers are case-sensitive names for entities in the source code, i.e. for functions, classes and variables.\n",
    "\n",
    "Some identifiers have a reserved meaning:\n",
    "\n",
    "| Reserved Pattern  | Example  | Meaning  |\n",
    "|:--|:--|:--|\n",
    "|_*   (leading underscore)  | _do_something  | Weak \"internal use\" indicator, e.g. from M import * does not import objects whose name starts with an underscore.  |\n",
    "| \\__ * (double leading underscore)  | \\__common_name  | Any identifier of the form \\__spam (at least two leading underscores, at most one trailing underscore) is textually replaced with _classname\\__spam, where classname is the current class name with leading underscore(s) stripped. Used to avoid name conflicts.  |\n",
    "| __*__ (double leading and   trailing underscore)  | \\__init\\__  | \"magic\" objects or attributes that live in user-controlled namespaces. E.g. \\__init\\__ , \\__import\\__ or \\__file\\__ . Never invent such names; only use them as documented.  |"
   ]
  },
  {
   "attachments": {},
   "cell_type": "markdown",
   "metadata": {},
   "source": [
    "# TODO:\n",
    "\n",
    "Add some examples of identifiers and the above rules\n",
    "\n",
    "Add some examples of errors when using keywords.\n",
    "\n",
    "Show nicely formatted keyword list:\n",
    "\n",
    "```python\n",
    "False\n",
    "None\n",
    "True\n",
    "and\n",
    "as\n",
    "assert\n",
    "break\n",
    "class\n",
    "continue\n",
    "def\n",
    "del\n",
    "elif\n",
    "else\n",
    "except\n",
    "finally\n",
    "for\n",
    "from\n",
    "global\n",
    "if\n",
    "import\n",
    "in\n",
    "is\n",
    "lambda\n",
    "nonlocal\n",
    "not\n",
    "or\n",
    "pass\n",
    "raise\n",
    "return\n",
    "try\n",
    "while\n",
    "with\n",
    "yield\n",
    "```"
   ]
  },
  {
   "cell_type": "code",
   "execution_count": null,
   "metadata": {
    "collapsed": true
   },
   "outputs": [],
   "source": []
  },
  {
   "cell_type": "code",
   "execution_count": null,
   "metadata": {
    "collapsed": true
   },
   "outputs": [],
   "source": []
  },
  {
   "cell_type": "code",
   "execution_count": null,
   "metadata": {
    "collapsed": true
   },
   "outputs": [],
   "source": []
  },
  {
   "cell_type": "code",
   "execution_count": null,
   "metadata": {
    "collapsed": true
   },
   "outputs": [],
   "source": []
  }
 ],
 "metadata": {
  "kernelspec": {
   "display_name": "Python 3",
   "language": "python",
   "name": "python3"
  },
  "language_info": {
   "codemirror_mode": {
    "name": "ipython",
    "version": 3
   },
   "file_extension": ".py",
   "mimetype": "text/x-python",
   "name": "python",
   "nbconvert_exporter": "python",
   "pygments_lexer": "ipython3",
   "version": "3.6.1"
  }
 },
 "nbformat": 4,
 "nbformat_minor": 2
}
