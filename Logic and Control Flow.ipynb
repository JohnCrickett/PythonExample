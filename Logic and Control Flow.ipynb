{
 "cells": [
  {
   "cell_type": "markdown",
   "metadata": {},
   "source": [
    "# Python Logic and Control Flow\n",
    "This notebook introduces Python control flow."
   ]
  },
  {
   "cell_type": "markdown",
   "metadata": {
    "collapsed": true
   },
   "source": [
    "## While\n",
    "Like most programming languages Python includes a while loop. The loop executes for as long as the condition remains true.\n",
    "\n",
    "```python\n",
    "a, b = 0, 5\n",
    "while a < b:\n",
    "    print(a)\n",
    "    a += 1 \n",
    "```"
   ]
  },
  {
   "cell_type": "code",
   "execution_count": null,
   "metadata": {
    "collapsed": false
   },
   "outputs": [],
   "source": [
    "a, b = 0, 5\n",
    "while a < b:\n",
    "    print(a)\n",
    "    a += 1"
   ]
  },
  {
   "cell_type": "markdown",
   "metadata": {},
   "source": [
    "Unlike most other programming languages however Python adds an else clause to the while loop. This takes the form:\n",
    "\n",
    "```python\n",
    "a, b = 0, 5\n",
    "while a < b:\n",
    "    print(a)\n",
    "    a += 1 \n",
    "else:\n",
    "    print('loop over')\n",
    "```"
   ]
  },
  {
   "cell_type": "code",
   "execution_count": null,
   "metadata": {
    "collapsed": false
   },
   "outputs": [],
   "source": [
    "a, b = 0, 5\n",
    "while a < b:\n",
    "    print(a)\n",
    "    a += 1 \n",
    "else:\n",
    "    print('loop over')"
   ]
  },
  {
   "cell_type": "markdown",
   "metadata": {},
   "source": [
    "Note that when the loop is exited via a break clause the else clause will not be executed."
   ]
  },
  {
   "cell_type": "code",
   "execution_count": null,
   "metadata": {
    "collapsed": false
   },
   "outputs": [],
   "source": [
    "a, b = 0, 5\n",
    "while a < b:\n",
    "    print(a)\n",
    "    a += 1 \n",
    "    if a > 3:\n",
    "        break\n",
    "else:\n",
    "    print('loop over')"
   ]
  },
  {
   "cell_type": "markdown",
   "metadata": {},
   "source": [
    "## If\n",
    "The if statement allows the programmer to control program flow based on a boolean condition. For example:\n",
    "\n",
    "```python\n",
    "x = int(input(\"Please enter an integer: \"))\n",
    "if x == 42:\n",
    "    print('That is the answer!')\n",
    "```"
   ]
  },
  {
   "cell_type": "code",
   "execution_count": null,
   "metadata": {
    "collapsed": false
   },
   "outputs": [],
   "source": [
    "x = int(input(\"Please enter an integer: \"))\n",
    "if x == 42:\n",
    "    print('That is the answer')"
   ]
  },
  {
   "cell_type": "markdown",
   "metadata": {},
   "source": [
    "You can also provide an else clause that will be executed if the statement is not true:\n",
    "```python\n",
    "x = int(input(\"Please enter an integer: \"))\n",
    "if x == 42:\n",
    "    print('That is the answer!')\n",
    "else:\n",
    "    print('Wrong')\n",
    "```\n",
    "\n",
    "You can also chain together several conditions using another condition chained on to the else. Python supports this directly with the `elif` clause:\n",
    "```python\n",
    "x = int(input(\"Is this a 5 or a 30 minute argument?\"))\n",
    "if x == 5:\n",
    "    print('That will be five pounds please')\n",
    "elif x == 30:\n",
    "    print('That will be ten pounds please')\n",
    "else:\n",
    "    print('Sorry I can only offer 5 or 30 minutes')\n",
    "```"
   ]
  },
  {
   "cell_type": "code",
   "execution_count": null,
   "metadata": {
    "collapsed": false
   },
   "outputs": [],
   "source": [
    "x = int(input(\"Is this a 5 or a 30 minute argument?\"))\n",
    "if x == 5:\n",
    "    print('That will be five pounds please')\n",
    "elif x == 30:\n",
    "    print('That will be ten pounds please')\n",
    "else:\n",
    "    print('Sorry I can only offer 5 or 30 minutes')"
   ]
  },
  {
   "cell_type": "markdown",
   "metadata": {},
   "source": [
    "## For\n",
    "Unlike other programming languages Python's for loop iterates over a sequence rather than an arthimetic progression.\n",
    "\n",
    "For example in C++ we might have:\n",
    "```C\n",
    "for (int i = 0; i < limit; ++i)\n",
    "{\n",
    "   ...\n",
    "}\n",
    "```\n",
    "\n",
    "In Python we would have:\n",
    "```python\n",
    "for i in range(limit):\n",
    "   ...\n",
    "```\n",
    "\n",
    "Here `range` is a function that returns a sequence of numbers, in the example above the sequence goes from 0 to limit - 1.\n",
    "\n",
    "the `range` function accepts multiple arguments, for example:\n",
    "\n",
    "```python\n",
    "range(5)        # the sequence 0 to 5\n",
    "range(1, 5)     # the sequence 1 to 5\n",
    "range(1, 10, 3) # the sequence 1, 4, 7\n",
    "```\n",
    "\n",
    "Finally note that `range` is an interesting function, try printing it below."
   ]
  },
  {
   "cell_type": "code",
   "execution_count": null,
   "metadata": {
    "collapsed": false
   },
   "outputs": [],
   "source": [
    "print(range(5))"
   ]
  },
  {
   "cell_type": "markdown",
   "metadata": {
    "collapsed": true
   },
   "source": [
    "`range` does not return the sequence directly, instead it returns an iterable that can be repeatedly called to get the next item in the sequence. This lazy evaluation allows you to use a very big sequence without the cost of creating all the items at once."
   ]
  },
  {
   "cell_type": "code",
   "execution_count": null,
   "metadata": {
    "collapsed": true
   },
   "outputs": [],
   "source": []
  },
  {
   "cell_type": "code",
   "execution_count": null,
   "metadata": {
    "collapsed": true
   },
   "outputs": [],
   "source": []
  },
  {
   "cell_type": "code",
   "execution_count": null,
   "metadata": {
    "collapsed": true
   },
   "outputs": [],
   "source": []
  },
  {
   "cell_type": "markdown",
   "metadata": {
    "collapsed": true
   },
   "source": [
    "## Python Tuple Unpacking\n",
    "Tuples can be upacked:\n",
    "```python\n",
    "tup = 1, 2\n",
    "a, b = tup\n",
    "```\n",
    "\n",
    "Tuple unpacking can also be used for function calls:\n",
    "\n",
    "```python\n",
    "tup = 3, 7\n",
    "print(max(*tup))\n",
    "```"
   ]
  },
  {
   "cell_type": "code",
   "execution_count": null,
   "metadata": {
    "collapsed": false
   },
   "outputs": [],
   "source": [
    "tup = 3, 7\n",
    "print(max(*tup))"
   ]
  },
  {
   "cell_type": "markdown",
   "metadata": {
    "collapsed": true
   },
   "source": [
    "We can also unpack using wild cards:\n",
    "```python\n",
    "tup = 1, 2, 3, 4\n",
    "a, b, * = tup\n",
    "```\n",
    "\n",
    "This can also be done in the middle:\n",
    "```python\n",
    "tup = 1, 2, 3, 4\n",
    "a, *, b = tup\n",
    "```\n",
    "\n",
    "\n",
    "By convention if we want to disregard we use the underscore:\n",
    "\n",
    "```python\n",
    "tup = 1, 2, 3, 4\n",
    "a, _, _, b = tup\n",
    "```\n",
    "\n"
   ]
  },
  {
   "cell_type": "markdown",
   "metadata": {},
   "source": [
    "It is also possible to use a slice:\n",
    "\n",
    "```python\n",
    "tup = 3, 7, 4, 1, 2\n",
    "print(max(*tup[2:4]))\n",
    "```"
   ]
  },
  {
   "cell_type": "code",
   "execution_count": null,
   "metadata": {
    "collapsed": false
   },
   "outputs": [],
   "source": [
    "tup = 3, 7, 4, 1, 2\n",
    "print(max(*tup[2:4]))"
   ]
  },
  {
   "cell_type": "code",
   "execution_count": null,
   "metadata": {
    "collapsed": true
   },
   "outputs": [],
   "source": []
  },
  {
   "cell_type": "code",
   "execution_count": null,
   "metadata": {
    "collapsed": true
   },
   "outputs": [],
   "source": []
  },
  {
   "cell_type": "code",
   "execution_count": null,
   "metadata": {
    "collapsed": true
   },
   "outputs": [],
   "source": []
  },
  {
   "cell_type": "code",
   "execution_count": null,
   "metadata": {
    "collapsed": true
   },
   "outputs": [],
   "source": []
  },
  {
   "cell_type": "code",
   "execution_count": null,
   "metadata": {
    "collapsed": true
   },
   "outputs": [],
   "source": []
  },
  {
   "cell_type": "code",
   "execution_count": null,
   "metadata": {
    "collapsed": true
   },
   "outputs": [],
   "source": []
  },
  {
   "cell_type": "code",
   "execution_count": null,
   "metadata": {
    "collapsed": true
   },
   "outputs": [],
   "source": []
  }
 ],
 "metadata": {
  "kernelspec": {
   "display_name": "Python 3",
   "language": "python",
   "name": "python3"
  },
  "language_info": {
   "codemirror_mode": {
    "name": "ipython",
    "version": 3
   },
   "file_extension": ".py",
   "mimetype": "text/x-python",
   "name": "python",
   "nbconvert_exporter": "python",
   "pygments_lexer": "ipython3",
   "version": "3.5.3"
  }
 },
 "nbformat": 4,
 "nbformat_minor": 2
}
