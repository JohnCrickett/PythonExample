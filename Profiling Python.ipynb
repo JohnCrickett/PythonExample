{
 "cells": [
  {
   "cell_type": "markdown",
   "metadata": {},
   "source": [
    "# Profiling Python Code\n",
    "\n",
    "Documentation for Python's standard profilers can be found here: https://docs.python.org/3.5/library/profile.html"
   ]
  },
  {
   "cell_type": "markdown",
   "metadata": {
    "collapsed": true
   },
   "source": [
    "## Running the Python Code under the profiler\n",
    "To run your Python using the profiler run:\n",
    "```\n",
    "python -m cProfile -o yourscript.profile yourscript.py\n",
    "```\n",
    "replacing `<yourscript>` with the name of your script."
   ]
  },
  {
   "cell_type": "markdown",
   "metadata": {
    "collapsed": true
   },
   "source": [
    "## Exploring the profile output\n",
    "To then explore the output of the profiler use `pstats` as so:\n",
    "```\n",
    "python -m pstats yourscript.profile\n",
    "```\n",
    "### Using pstats\n",
    "Useful pstats commands are:\n",
    "* `help` - to get help\n",
    "* `strip` - to strip paths from filenames\n",
    "* `sort <key>` - to sort the results by the key\n",
    "* `stats <n>` - to show the top n results\n",
    "* `callers <pattern>` - to show what called the pattern (where pattern could be a function name)\n",
    "* `quit` - to quit pstats\n",
    "\n",
    "A typical first step would be to strip paths from filenames:\n",
    "```\n",
    "strip\n",
    "```\n",
    "then sort by time:\n",
    "```\n",
    "sort time\n",
    "```\n",
    "and then see which functions are the top 10 by time spent:\n",
    "```\n",
    "stats 10\n",
    "```\n"
   ]
  },
  {
   "cell_type": "code",
   "execution_count": null,
   "metadata": {
    "collapsed": true
   },
   "outputs": [],
   "source": []
  },
  {
   "cell_type": "markdown",
   "metadata": {},
   "source": [
    "## Visualisation of results\n",
    "\n",
    "\n",
    "https://github.com/jrfonseca/gprof2dot\n",
    "\n",
    "You will need Graphviz:\n",
    "\n",
    "Windows users can install graphviz as follows\n",
    "\n",
    "- Install Graphviz from http://www.graphviz.org/Download_windows.php\n",
    "- Add C:\\Program Files (x86)\\Graphviz2.38\\bin to the PATH\n",
    "- Run \"pip install graphviz\" on the command line"
   ]
  },
  {
   "cell_type": "code",
   "execution_count": null,
   "metadata": {
    "collapsed": true
   },
   "outputs": [],
   "source": []
  },
  {
   "cell_type": "code",
   "execution_count": null,
   "metadata": {
    "collapsed": true
   },
   "outputs": [],
   "source": []
  },
  {
   "cell_type": "code",
   "execution_count": null,
   "metadata": {
    "collapsed": true
   },
   "outputs": [],
   "source": []
  },
  {
   "cell_type": "markdown",
   "metadata": {
    "collapsed": true
   },
   "source": [
    "## Useful Videos on Profiling\n",
    "https://www.youtube.com/watch?v=bectZn_yNwg"
   ]
  },
  {
   "cell_type": "markdown",
   "metadata": {
    "collapsed": true
   },
   "source": [
    "## Useful References On Performance\n",
    "https://wiki.python.org/moin/PythonSpeed/PerformanceTips"
   ]
  }
 ],
 "metadata": {
  "kernelspec": {
   "display_name": "Python 3",
   "language": "python",
   "name": "python3"
  },
  "language_info": {
   "codemirror_mode": {
    "name": "ipython",
    "version": 3
   },
   "file_extension": ".py",
   "mimetype": "text/x-python",
   "name": "python",
   "nbconvert_exporter": "python",
   "pygments_lexer": "ipython3",
   "version": "3.5.3"
  }
 },
 "nbformat": 4,
 "nbformat_minor": 1
}
